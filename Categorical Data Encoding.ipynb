{
 "cells": [
  {
   "cell_type": "markdown",
   "id": "b2026a49",
   "metadata": {
    "papermill": {
     "duration": 0.005907,
     "end_time": "2024-10-22T11:31:11.420974",
     "exception": false,
     "start_time": "2024-10-22T11:31:11.415067",
     "status": "completed"
    },
    "tags": []
   },
   "source": [
    "**For a given set of training data examples stored in a .CSV file, implement and demonstrate the conversion of categorical data to numeric of Tips.csv file using python libraries.\n",
    ".\n",
    "Dataset:** https://www.kaggle.com/datasets/hnazari8665/tipscsv "
   ]
  },
  {
   "cell_type": "markdown",
   "id": "74de8e74",
   "metadata": {
    "papermill": {
     "duration": 0.004588,
     "end_time": "2024-10-22T11:31:11.430776",
     "exception": false,
     "start_time": "2024-10-22T11:31:11.426188",
     "status": "completed"
    },
    "tags": []
   },
   "source": [
    "# Import necessary Libraries"
   ]
  },
  {
   "cell_type": "code",
   "execution_count": 1,
   "id": "898aec64",
   "metadata": {
    "execution": {
     "iopub.execute_input": "2024-10-22T11:31:11.443297Z",
     "iopub.status.busy": "2024-10-22T11:31:11.442128Z",
     "iopub.status.idle": "2024-10-22T11:31:14.079208Z",
     "shell.execute_reply": "2024-10-22T11:31:14.078378Z"
    },
    "papermill": {
     "duration": 2.646244,
     "end_time": "2024-10-22T11:31:14.081890",
     "exception": false,
     "start_time": "2024-10-22T11:31:11.435646",
     "status": "completed"
    },
    "tags": []
   },
   "outputs": [],
   "source": [
    "import seaborn as sns\n",
    "import pandas as pd\n",
    "import numpy as num\n",
    "from sklearn.preprocessing import LabelEncoder,OneHotEncoder\n",
    "from sklearn.model_selection import train_test_split\n",
    "from sklearn.linear_model import LinearRegression "
   ]
  },
  {
   "cell_type": "code",
   "execution_count": 2,
   "id": "4e94c327",
   "metadata": {
    "execution": {
     "iopub.execute_input": "2024-10-22T11:31:14.093678Z",
     "iopub.status.busy": "2024-10-22T11:31:14.093180Z",
     "iopub.status.idle": "2024-10-22T11:31:14.127592Z",
     "shell.execute_reply": "2024-10-22T11:31:14.126341Z"
    },
    "papermill": {
     "duration": 0.04269,
     "end_time": "2024-10-22T11:31:14.129959",
     "exception": false,
     "start_time": "2024-10-22T11:31:14.087269",
     "status": "completed"
    },
    "tags": []
   },
   "outputs": [
    {
     "name": "stdout",
     "output_type": "stream",
     "text": [
      "   total_bill   tip     sex smoker  day    time  size  price_per_person  \\\n",
      "0       16.99  1.01  Female     No  Sun  Dinner     2              8.49   \n",
      "1       10.34  1.66    Male     No  Sun  Dinner     3              3.45   \n",
      "2       21.01  3.50    Male     No  Sun  Dinner     3              7.00   \n",
      "3       23.68  3.31    Male     No  Sun  Dinner     2             11.84   \n",
      "4       24.59  3.61  Female     No  Sun  Dinner     4              6.15   \n",
      "\n",
      "           Payer Name         CC Number Payment ID  \n",
      "0  Christy Cunningham  3560325168603410    Sun2959  \n",
      "1      Douglas Tucker  4478071379779230    Sun4608  \n",
      "2      Travis Walters  6011812112971322    Sun4458  \n",
      "3    Nathaniel Harris  4676137647685994    Sun5260  \n",
      "4        Tonya Carter  4832732618637221    Sun2251  \n"
     ]
    }
   ],
   "source": [
    "#load the dataset\n",
    "df=pd.read_csv('/kaggle/input/categorical-data/tips.csv')\n",
    "\n",
    "#Display the first few rows of the database to understand the structure\n",
    "print(df.head())"
   ]
  },
  {
   "cell_type": "code",
   "execution_count": 3,
   "id": "012115be",
   "metadata": {
    "execution": {
     "iopub.execute_input": "2024-10-22T11:31:14.142425Z",
     "iopub.status.busy": "2024-10-22T11:31:14.141828Z",
     "iopub.status.idle": "2024-10-22T11:31:14.149782Z",
     "shell.execute_reply": "2024-10-22T11:31:14.148758Z"
    },
    "papermill": {
     "duration": 0.016557,
     "end_time": "2024-10-22T11:31:14.152004",
     "exception": false,
     "start_time": "2024-10-22T11:31:14.135447",
     "status": "completed"
    },
    "tags": []
   },
   "outputs": [
    {
     "data": {
      "text/plain": [
       "(244, 11)"
      ]
     },
     "execution_count": 3,
     "metadata": {},
     "output_type": "execute_result"
    }
   ],
   "source": [
    "#checking the structure of Database\n",
    "df.shape"
   ]
  },
  {
   "cell_type": "code",
   "execution_count": 4,
   "id": "14c502bc",
   "metadata": {
    "execution": {
     "iopub.execute_input": "2024-10-22T11:31:14.164105Z",
     "iopub.status.busy": "2024-10-22T11:31:14.163755Z",
     "iopub.status.idle": "2024-10-22T11:31:14.193556Z",
     "shell.execute_reply": "2024-10-22T11:31:14.192602Z"
    },
    "papermill": {
     "duration": 0.038871,
     "end_time": "2024-10-22T11:31:14.196098",
     "exception": false,
     "start_time": "2024-10-22T11:31:14.157227",
     "status": "completed"
    },
    "tags": []
   },
   "outputs": [
    {
     "data": {
      "text/html": [
       "<div>\n",
       "<style scoped>\n",
       "    .dataframe tbody tr th:only-of-type {\n",
       "        vertical-align: middle;\n",
       "    }\n",
       "\n",
       "    .dataframe tbody tr th {\n",
       "        vertical-align: top;\n",
       "    }\n",
       "\n",
       "    .dataframe thead th {\n",
       "        text-align: right;\n",
       "    }\n",
       "</style>\n",
       "<table border=\"1\" class=\"dataframe\">\n",
       "  <thead>\n",
       "    <tr style=\"text-align: right;\">\n",
       "      <th></th>\n",
       "      <th>total_bill</th>\n",
       "      <th>tip</th>\n",
       "      <th>size</th>\n",
       "      <th>price_per_person</th>\n",
       "      <th>CC Number</th>\n",
       "    </tr>\n",
       "  </thead>\n",
       "  <tbody>\n",
       "    <tr>\n",
       "      <th>count</th>\n",
       "      <td>244.000000</td>\n",
       "      <td>244.000000</td>\n",
       "      <td>244.000000</td>\n",
       "      <td>244.000000</td>\n",
       "      <td>2.440000e+02</td>\n",
       "    </tr>\n",
       "    <tr>\n",
       "      <th>mean</th>\n",
       "      <td>19.785943</td>\n",
       "      <td>2.998279</td>\n",
       "      <td>2.569672</td>\n",
       "      <td>7.888197</td>\n",
       "      <td>2.563496e+15</td>\n",
       "    </tr>\n",
       "    <tr>\n",
       "      <th>std</th>\n",
       "      <td>8.902412</td>\n",
       "      <td>1.383638</td>\n",
       "      <td>0.951100</td>\n",
       "      <td>2.914234</td>\n",
       "      <td>2.369340e+15</td>\n",
       "    </tr>\n",
       "    <tr>\n",
       "      <th>min</th>\n",
       "      <td>3.070000</td>\n",
       "      <td>1.000000</td>\n",
       "      <td>1.000000</td>\n",
       "      <td>2.880000</td>\n",
       "      <td>6.040679e+10</td>\n",
       "    </tr>\n",
       "    <tr>\n",
       "      <th>25%</th>\n",
       "      <td>13.347500</td>\n",
       "      <td>2.000000</td>\n",
       "      <td>2.000000</td>\n",
       "      <td>5.800000</td>\n",
       "      <td>3.040731e+13</td>\n",
       "    </tr>\n",
       "    <tr>\n",
       "      <th>50%</th>\n",
       "      <td>17.795000</td>\n",
       "      <td>2.900000</td>\n",
       "      <td>2.000000</td>\n",
       "      <td>7.255000</td>\n",
       "      <td>3.525318e+15</td>\n",
       "    </tr>\n",
       "    <tr>\n",
       "      <th>75%</th>\n",
       "      <td>24.127500</td>\n",
       "      <td>3.562500</td>\n",
       "      <td>3.000000</td>\n",
       "      <td>9.390000</td>\n",
       "      <td>4.553675e+15</td>\n",
       "    </tr>\n",
       "    <tr>\n",
       "      <th>max</th>\n",
       "      <td>50.810000</td>\n",
       "      <td>10.000000</td>\n",
       "      <td>6.000000</td>\n",
       "      <td>20.270000</td>\n",
       "      <td>6.596454e+15</td>\n",
       "    </tr>\n",
       "  </tbody>\n",
       "</table>\n",
       "</div>"
      ],
      "text/plain": [
       "       total_bill         tip        size  price_per_person     CC Number\n",
       "count  244.000000  244.000000  244.000000        244.000000  2.440000e+02\n",
       "mean    19.785943    2.998279    2.569672          7.888197  2.563496e+15\n",
       "std      8.902412    1.383638    0.951100          2.914234  2.369340e+15\n",
       "min      3.070000    1.000000    1.000000          2.880000  6.040679e+10\n",
       "25%     13.347500    2.000000    2.000000          5.800000  3.040731e+13\n",
       "50%     17.795000    2.900000    2.000000          7.255000  3.525318e+15\n",
       "75%     24.127500    3.562500    3.000000          9.390000  4.553675e+15\n",
       "max     50.810000   10.000000    6.000000         20.270000  6.596454e+15"
      ]
     },
     "execution_count": 4,
     "metadata": {},
     "output_type": "execute_result"
    }
   ],
   "source": [
    "#Display the summary statistics of the dataset\n",
    "##df.describe(): Provides a summary of statistics for each numerical column in the DataFrame.\n",
    "df.describe()"
   ]
  },
  {
   "cell_type": "code",
   "execution_count": 5,
   "id": "7a7bb5c5",
   "metadata": {
    "execution": {
     "iopub.execute_input": "2024-10-22T11:31:14.209073Z",
     "iopub.status.busy": "2024-10-22T11:31:14.208701Z",
     "iopub.status.idle": "2024-10-22T11:31:14.229844Z",
     "shell.execute_reply": "2024-10-22T11:31:14.228817Z"
    },
    "papermill": {
     "duration": 0.030927,
     "end_time": "2024-10-22T11:31:14.232918",
     "exception": false,
     "start_time": "2024-10-22T11:31:14.201991",
     "status": "completed"
    },
    "tags": []
   },
   "outputs": [
    {
     "name": "stdout",
     "output_type": "stream",
     "text": [
      "<class 'pandas.core.frame.DataFrame'>\n",
      "RangeIndex: 244 entries, 0 to 243\n",
      "Data columns (total 11 columns):\n",
      " #   Column            Non-Null Count  Dtype  \n",
      "---  ------            --------------  -----  \n",
      " 0   total_bill        244 non-null    float64\n",
      " 1   tip               244 non-null    float64\n",
      " 2   sex               244 non-null    object \n",
      " 3   smoker            244 non-null    object \n",
      " 4   day               244 non-null    object \n",
      " 5   time              244 non-null    object \n",
      " 6   size              244 non-null    int64  \n",
      " 7   price_per_person  244 non-null    float64\n",
      " 8   Payer Name        244 non-null    object \n",
      " 9   CC Number         244 non-null    int64  \n",
      " 10  Payment ID        244 non-null    object \n",
      "dtypes: float64(3), int64(2), object(6)\n",
      "memory usage: 21.1+ KB\n"
     ]
    }
   ],
   "source": [
    "df.info()"
   ]
  },
  {
   "cell_type": "code",
   "execution_count": 6,
   "id": "00ed72c4",
   "metadata": {
    "execution": {
     "iopub.execute_input": "2024-10-22T11:31:14.245846Z",
     "iopub.status.busy": "2024-10-22T11:31:14.245431Z",
     "iopub.status.idle": "2024-10-22T11:31:14.264241Z",
     "shell.execute_reply": "2024-10-22T11:31:14.263308Z"
    },
    "papermill": {
     "duration": 0.027627,
     "end_time": "2024-10-22T11:31:14.266480",
     "exception": false,
     "start_time": "2024-10-22T11:31:14.238853",
     "status": "completed"
    },
    "tags": []
   },
   "outputs": [
    {
     "data": {
      "text/html": [
       "<div>\n",
       "<style scoped>\n",
       "    .dataframe tbody tr th:only-of-type {\n",
       "        vertical-align: middle;\n",
       "    }\n",
       "\n",
       "    .dataframe tbody tr th {\n",
       "        vertical-align: top;\n",
       "    }\n",
       "\n",
       "    .dataframe thead th {\n",
       "        text-align: right;\n",
       "    }\n",
       "</style>\n",
       "<table border=\"1\" class=\"dataframe\">\n",
       "  <thead>\n",
       "    <tr style=\"text-align: right;\">\n",
       "      <th></th>\n",
       "      <th>total_bill</th>\n",
       "      <th>tip</th>\n",
       "      <th>sex</th>\n",
       "      <th>smoker</th>\n",
       "      <th>day</th>\n",
       "      <th>time</th>\n",
       "      <th>size</th>\n",
       "      <th>price_per_person</th>\n",
       "      <th>Payer Name</th>\n",
       "      <th>CC Number</th>\n",
       "      <th>Payment ID</th>\n",
       "    </tr>\n",
       "  </thead>\n",
       "  <tbody>\n",
       "    <tr>\n",
       "      <th>0</th>\n",
       "      <td>False</td>\n",
       "      <td>False</td>\n",
       "      <td>False</td>\n",
       "      <td>False</td>\n",
       "      <td>False</td>\n",
       "      <td>False</td>\n",
       "      <td>False</td>\n",
       "      <td>False</td>\n",
       "      <td>False</td>\n",
       "      <td>False</td>\n",
       "      <td>False</td>\n",
       "    </tr>\n",
       "    <tr>\n",
       "      <th>1</th>\n",
       "      <td>False</td>\n",
       "      <td>False</td>\n",
       "      <td>False</td>\n",
       "      <td>False</td>\n",
       "      <td>False</td>\n",
       "      <td>False</td>\n",
       "      <td>False</td>\n",
       "      <td>False</td>\n",
       "      <td>False</td>\n",
       "      <td>False</td>\n",
       "      <td>False</td>\n",
       "    </tr>\n",
       "    <tr>\n",
       "      <th>2</th>\n",
       "      <td>False</td>\n",
       "      <td>False</td>\n",
       "      <td>False</td>\n",
       "      <td>False</td>\n",
       "      <td>False</td>\n",
       "      <td>False</td>\n",
       "      <td>False</td>\n",
       "      <td>False</td>\n",
       "      <td>False</td>\n",
       "      <td>False</td>\n",
       "      <td>False</td>\n",
       "    </tr>\n",
       "    <tr>\n",
       "      <th>3</th>\n",
       "      <td>False</td>\n",
       "      <td>False</td>\n",
       "      <td>False</td>\n",
       "      <td>False</td>\n",
       "      <td>False</td>\n",
       "      <td>False</td>\n",
       "      <td>False</td>\n",
       "      <td>False</td>\n",
       "      <td>False</td>\n",
       "      <td>False</td>\n",
       "      <td>False</td>\n",
       "    </tr>\n",
       "    <tr>\n",
       "      <th>4</th>\n",
       "      <td>False</td>\n",
       "      <td>False</td>\n",
       "      <td>False</td>\n",
       "      <td>False</td>\n",
       "      <td>False</td>\n",
       "      <td>False</td>\n",
       "      <td>False</td>\n",
       "      <td>False</td>\n",
       "      <td>False</td>\n",
       "      <td>False</td>\n",
       "      <td>False</td>\n",
       "    </tr>\n",
       "    <tr>\n",
       "      <th>...</th>\n",
       "      <td>...</td>\n",
       "      <td>...</td>\n",
       "      <td>...</td>\n",
       "      <td>...</td>\n",
       "      <td>...</td>\n",
       "      <td>...</td>\n",
       "      <td>...</td>\n",
       "      <td>...</td>\n",
       "      <td>...</td>\n",
       "      <td>...</td>\n",
       "      <td>...</td>\n",
       "    </tr>\n",
       "    <tr>\n",
       "      <th>239</th>\n",
       "      <td>False</td>\n",
       "      <td>False</td>\n",
       "      <td>False</td>\n",
       "      <td>False</td>\n",
       "      <td>False</td>\n",
       "      <td>False</td>\n",
       "      <td>False</td>\n",
       "      <td>False</td>\n",
       "      <td>False</td>\n",
       "      <td>False</td>\n",
       "      <td>False</td>\n",
       "    </tr>\n",
       "    <tr>\n",
       "      <th>240</th>\n",
       "      <td>False</td>\n",
       "      <td>False</td>\n",
       "      <td>False</td>\n",
       "      <td>False</td>\n",
       "      <td>False</td>\n",
       "      <td>False</td>\n",
       "      <td>False</td>\n",
       "      <td>False</td>\n",
       "      <td>False</td>\n",
       "      <td>False</td>\n",
       "      <td>False</td>\n",
       "    </tr>\n",
       "    <tr>\n",
       "      <th>241</th>\n",
       "      <td>False</td>\n",
       "      <td>False</td>\n",
       "      <td>False</td>\n",
       "      <td>False</td>\n",
       "      <td>False</td>\n",
       "      <td>False</td>\n",
       "      <td>False</td>\n",
       "      <td>False</td>\n",
       "      <td>False</td>\n",
       "      <td>False</td>\n",
       "      <td>False</td>\n",
       "    </tr>\n",
       "    <tr>\n",
       "      <th>242</th>\n",
       "      <td>False</td>\n",
       "      <td>False</td>\n",
       "      <td>False</td>\n",
       "      <td>False</td>\n",
       "      <td>False</td>\n",
       "      <td>False</td>\n",
       "      <td>False</td>\n",
       "      <td>False</td>\n",
       "      <td>False</td>\n",
       "      <td>False</td>\n",
       "      <td>False</td>\n",
       "    </tr>\n",
       "    <tr>\n",
       "      <th>243</th>\n",
       "      <td>False</td>\n",
       "      <td>False</td>\n",
       "      <td>False</td>\n",
       "      <td>False</td>\n",
       "      <td>False</td>\n",
       "      <td>False</td>\n",
       "      <td>False</td>\n",
       "      <td>False</td>\n",
       "      <td>False</td>\n",
       "      <td>False</td>\n",
       "      <td>False</td>\n",
       "    </tr>\n",
       "  </tbody>\n",
       "</table>\n",
       "<p>244 rows × 11 columns</p>\n",
       "</div>"
      ],
      "text/plain": [
       "     total_bill    tip    sex  smoker    day   time   size  price_per_person  \\\n",
       "0         False  False  False   False  False  False  False             False   \n",
       "1         False  False  False   False  False  False  False             False   \n",
       "2         False  False  False   False  False  False  False             False   \n",
       "3         False  False  False   False  False  False  False             False   \n",
       "4         False  False  False   False  False  False  False             False   \n",
       "..          ...    ...    ...     ...    ...    ...    ...               ...   \n",
       "239       False  False  False   False  False  False  False             False   \n",
       "240       False  False  False   False  False  False  False             False   \n",
       "241       False  False  False   False  False  False  False             False   \n",
       "242       False  False  False   False  False  False  False             False   \n",
       "243       False  False  False   False  False  False  False             False   \n",
       "\n",
       "     Payer Name  CC Number  Payment ID  \n",
       "0         False      False       False  \n",
       "1         False      False       False  \n",
       "2         False      False       False  \n",
       "3         False      False       False  \n",
       "4         False      False       False  \n",
       "..          ...        ...         ...  \n",
       "239       False      False       False  \n",
       "240       False      False       False  \n",
       "241       False      False       False  \n",
       "242       False      False       False  \n",
       "243       False      False       False  \n",
       "\n",
       "[244 rows x 11 columns]"
      ]
     },
     "execution_count": 6,
     "metadata": {},
     "output_type": "execute_result"
    }
   ],
   "source": [
    "#Check for any missing values in the dataset\n",
    "##df.isnull(): Checks for missing values in each column.\n",
    "df.isnull()"
   ]
  },
  {
   "cell_type": "code",
   "execution_count": 7,
   "id": "66713e2b",
   "metadata": {
    "execution": {
     "iopub.execute_input": "2024-10-22T11:31:14.280381Z",
     "iopub.status.busy": "2024-10-22T11:31:14.279747Z",
     "iopub.status.idle": "2024-10-22T11:31:14.286445Z",
     "shell.execute_reply": "2024-10-22T11:31:14.285345Z"
    },
    "papermill": {
     "duration": 0.016116,
     "end_time": "2024-10-22T11:31:14.288721",
     "exception": false,
     "start_time": "2024-10-22T11:31:14.272605",
     "status": "completed"
    },
    "tags": []
   },
   "outputs": [
    {
     "name": "stdout",
     "output_type": "stream",
     "text": [
      "total_bill          float64\n",
      "tip                 float64\n",
      "sex                  object\n",
      "smoker               object\n",
      "day                  object\n",
      "time                 object\n",
      "size                  int64\n",
      "price_per_person    float64\n",
      "Payer Name           object\n",
      "CC Number             int64\n",
      "Payment ID           object\n",
      "dtype: object\n"
     ]
    }
   ],
   "source": [
    "#Display column types to find which ones are categorical\n",
    "print(df.dtypes)\n",
    "\n",
    "#Alternatively, You can manually list the columns\n",
    "categorical_columns=['sex','smoker','day','time']"
   ]
  },
  {
   "cell_type": "markdown",
   "id": "6c78d7e6",
   "metadata": {
    "papermill": {
     "duration": 0.006092,
     "end_time": "2024-10-22T11:31:14.301010",
     "exception": false,
     "start_time": "2024-10-22T11:31:14.294918",
     "status": "completed"
    },
    "tags": []
   },
   "source": [
    "# Convert Categorical Data to Numeric"
   ]
  },
  {
   "cell_type": "markdown",
   "id": "88b076e3",
   "metadata": {
    "papermill": {
     "duration": 0.005773,
     "end_time": "2024-10-22T11:31:14.313214",
     "exception": false,
     "start_time": "2024-10-22T11:31:14.307441",
     "status": "completed"
    },
    "tags": []
   },
   "source": [
    "# Label Encoding for Ordinal Categories"
   ]
  },
  {
   "cell_type": "code",
   "execution_count": 8,
   "id": "cede3d76",
   "metadata": {
    "execution": {
     "iopub.execute_input": "2024-10-22T11:31:14.326827Z",
     "iopub.status.busy": "2024-10-22T11:31:14.326398Z",
     "iopub.status.idle": "2024-10-22T11:31:14.340584Z",
     "shell.execute_reply": "2024-10-22T11:31:14.339388Z"
    },
    "papermill": {
     "duration": 0.023586,
     "end_time": "2024-10-22T11:31:14.342796",
     "exception": false,
     "start_time": "2024-10-22T11:31:14.319210",
     "status": "completed"
    },
    "tags": []
   },
   "outputs": [
    {
     "name": "stdout",
     "output_type": "stream",
     "text": [
      "   total_bill   tip  sex  smoker  day  time  size  price_per_person  \\\n",
      "0       16.99  1.01    0       0    2     0     2              8.49   \n",
      "1       10.34  1.66    1       0    2     0     3              3.45   \n",
      "2       21.01  3.50    1       0    2     0     3              7.00   \n",
      "3       23.68  3.31    1       0    2     0     2             11.84   \n",
      "4       24.59  3.61    0       0    2     0     4              6.15   \n",
      "\n",
      "           Payer Name         CC Number Payment ID  \n",
      "0  Christy Cunningham  3560325168603410    Sun2959  \n",
      "1      Douglas Tucker  4478071379779230    Sun4608  \n",
      "2      Travis Walters  6011812112971322    Sun4458  \n",
      "3    Nathaniel Harris  4676137647685994    Sun5260  \n",
      "4        Tonya Carter  4832732618637221    Sun2251  \n"
     ]
    }
   ],
   "source": [
    "label_encoder=LabelEncoder()\n",
    "df['sex']=label_encoder.fit_transform(df['sex'])\n",
    "df['smoker']=label_encoder.fit_transform(df['smoker'])\n",
    "df['day']=label_encoder.fit_transform(df['day'])\n",
    "df['time']=label_encoder.fit_transform(df['time'])\n",
    "\n",
    "print(df.head())\n"
   ]
  },
  {
   "cell_type": "markdown",
   "id": "f3d5f882",
   "metadata": {
    "papermill": {
     "duration": 0.00699,
     "end_time": "2024-10-22T11:31:14.356179",
     "exception": false,
     "start_time": "2024-10-22T11:31:14.349189",
     "status": "completed"
    },
    "tags": []
   },
   "source": [
    "# One-Hot Encoding for Nominal Categories"
   ]
  },
  {
   "cell_type": "markdown",
   "id": "805b223f",
   "metadata": {
    "papermill": {
     "duration": 0.006125,
     "end_time": "2024-10-22T11:31:14.369117",
     "exception": false,
     "start_time": "2024-10-22T11:31:14.362992",
     "status": "completed"
    },
    "tags": []
   },
   "source": [
    "*One-Hot encoding is useful when the categorical values have a natural order*"
   ]
  },
  {
   "cell_type": "code",
   "execution_count": 9,
   "id": "c395aab9",
   "metadata": {
    "execution": {
     "iopub.execute_input": "2024-10-22T11:31:14.383970Z",
     "iopub.status.busy": "2024-10-22T11:31:14.383066Z",
     "iopub.status.idle": "2024-10-22T11:31:14.401642Z",
     "shell.execute_reply": "2024-10-22T11:31:14.400333Z"
    },
    "papermill": {
     "duration": 0.028528,
     "end_time": "2024-10-22T11:31:14.404045",
     "exception": false,
     "start_time": "2024-10-22T11:31:14.375517",
     "status": "completed"
    },
    "tags": []
   },
   "outputs": [
    {
     "name": "stdout",
     "output_type": "stream",
     "text": [
      "   total_bill   tip  size  price_per_person          Payer Name  \\\n",
      "0       16.99  1.01     2              8.49  Christy Cunningham   \n",
      "1       10.34  1.66     3              3.45      Douglas Tucker   \n",
      "2       21.01  3.50     3              7.00      Travis Walters   \n",
      "3       23.68  3.31     2             11.84    Nathaniel Harris   \n",
      "4       24.59  3.61     4              6.15        Tonya Carter   \n",
      "\n",
      "          CC Number Payment ID  sex_1  smoker_1  day_1  day_2  day_3  time_1  \n",
      "0  3560325168603410    Sun2959  False     False  False   True  False   False  \n",
      "1  4478071379779230    Sun4608   True     False  False   True  False   False  \n",
      "2  6011812112971322    Sun4458   True     False  False   True  False   False  \n",
      "3  4676137647685994    Sun5260   True     False  False   True  False   False  \n",
      "4  4832732618637221    Sun2251  False     False  False   True  False   False  \n"
     ]
    }
   ],
   "source": [
    "#apply one-hot encoding\n",
    "df_encoded = pd.get_dummies(df, columns=['sex','smoker','day','time'],drop_first=True)\n",
    "\n",
    "#display the transformed dataframe\n",
    "print(df_encoded.head())\n"
   ]
  },
  {
   "cell_type": "code",
   "execution_count": null,
   "id": "399a97c8",
   "metadata": {
    "papermill": {
     "duration": 0.006199,
     "end_time": "2024-10-22T11:31:14.417126",
     "exception": false,
     "start_time": "2024-10-22T11:31:14.410927",
     "status": "completed"
    },
    "tags": []
   },
   "outputs": [],
   "source": []
  }
 ],
 "metadata": {
  "kaggle": {
   "accelerator": "none",
   "dataSources": [
    {
     "datasetId": 5683716,
     "sourceId": 9371442,
     "sourceType": "datasetVersion"
    }
   ],
   "dockerImageVersionId": 30761,
   "isGpuEnabled": false,
   "isInternetEnabled": false,
   "language": "python",
   "sourceType": "notebook"
  },
  "kernelspec": {
   "display_name": "Python 3",
   "language": "python",
   "name": "python3"
  },
  "language_info": {
   "codemirror_mode": {
    "name": "ipython",
    "version": 3
   },
   "file_extension": ".py",
   "mimetype": "text/x-python",
   "name": "python",
   "nbconvert_exporter": "python",
   "pygments_lexer": "ipython3",
   "version": "3.10.14"
  },
  "papermill": {
   "default_parameters": {},
   "duration": 6.511898,
   "end_time": "2024-10-22T11:31:14.942923",
   "environment_variables": {},
   "exception": null,
   "input_path": "__notebook__.ipynb",
   "output_path": "__notebook__.ipynb",
   "parameters": {},
   "start_time": "2024-10-22T11:31:08.431025",
   "version": "2.6.0"
  }
 },
 "nbformat": 4,
 "nbformat_minor": 5
}
