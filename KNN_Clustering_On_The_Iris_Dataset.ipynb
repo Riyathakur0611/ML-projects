{
  "metadata": {
    "kernelspec": {
      "language": "python",
      "display_name": "Python 3",
      "name": "python3"
    },
    "language_info": {
      "name": "python",
      "version": "3.10.14",
      "mimetype": "text/x-python",
      "codemirror_mode": {
        "name": "ipython",
        "version": 3
      },
      "pygments_lexer": "ipython3",
      "nbconvert_exporter": "python",
      "file_extension": ".py"
    },
    "kaggle": {
      "accelerator": "none",
      "dataSources": [
        {
          "sourceId": 9655546,
          "sourceType": "datasetVersion",
          "datasetId": 5898290
        }
      ],
      "dockerImageVersionId": 30786,
      "isInternetEnabled": false,
      "language": "python",
      "sourceType": "notebook",
      "isGpuEnabled": false
    },
    "colab": {
      "name": "KNN Clustering On The Iris Dataset",
      "provenance": [],
      "include_colab_link": true
    }
  },
  "nbformat_minor": 0,
  "nbformat": 4,
  "cells": [
    {
      "cell_type": "markdown",
      "metadata": {
        "id": "view-in-github",
        "colab_type": "text"
      },
      "source": [
        "<a href=\"https://colab.research.google.com/github/Riyathakur0611/ML-projects/blob/main/KNN_Clustering_On_The_Iris_Dataset.ipynb\" target=\"_parent\"><img src=\"https://colab.research.google.com/assets/colab-badge.svg\" alt=\"Open In Colab\"/></a>"
      ]
    },
    {
      "source": [
        "# IMPORTANT: SOME KAGGLE DATA SOURCES ARE PRIVATE\n",
        "# RUN THIS CELL IN ORDER TO IMPORT YOUR KAGGLE DATA SOURCES.\n",
        "import kagglehub\n",
        "kagglehub.login()\n"
      ],
      "metadata": {
        "id": "dVqL6_dw7_XF"
      },
      "cell_type": "code",
      "outputs": [],
      "execution_count": null
    },
    {
      "source": [
        "# IMPORTANT: RUN THIS CELL IN ORDER TO IMPORT YOUR KAGGLE DATA SOURCES,\n",
        "# THEN FEEL FREE TO DELETE THIS CELL.\n",
        "# NOTE: THIS NOTEBOOK ENVIRONMENT DIFFERS FROM KAGGLE'S PYTHON\n",
        "# ENVIRONMENT SO THERE MAY BE MISSING LIBRARIES USED BY YOUR\n",
        "# NOTEBOOK.\n",
        "\n",
        "msriya_knn_clustering_on_iris_dataset_path = kagglehub.dataset_download('msriya/knn-clustering-on-iris-dataset')\n",
        "\n",
        "print('Data source import complete.')\n"
      ],
      "metadata": {
        "id": "WG_hwhSy7_XO"
      },
      "cell_type": "code",
      "outputs": [],
      "execution_count": null
    },
    {
      "cell_type": "markdown",
      "source": [
        "# KNN Clustering on the Iris Dataset"
      ],
      "metadata": {
        "id": "fgY-JJaI7_XQ"
      }
    },
    {
      "cell_type": "markdown",
      "source": [
        "\n",
        "**To implement and demonstrate K-Nearest Neighbors (KNN) clustering for grouping similar types of flowers using the Iris dataset. We will also visualize the clusters and evaluate model performance using silhouette scores.**\n",
        "\n",
        "**Dataset:** https://www.kaggle.com/datasets/arshid/iris-flower-dataset/codeode"
      ],
      "metadata": {
        "id": "OE1Jay4J7_XT"
      }
    },
    {
      "cell_type": "markdown",
      "source": [
        "# import necessary libraries"
      ],
      "metadata": {
        "id": "8Ou8vH3Q7_XU"
      }
    },
    {
      "cell_type": "code",
      "source": [
        "import numpy as np\n",
        "import pandas as pd\n",
        "import matplotlib.pyplot as plt\n",
        "import seaborn as sns\n",
        "from sklearn.datasets import load_iris\n",
        "from sklearn.model_selection import train_test_split\n",
        "from sklearn.preprocessing import StandardScaler\n",
        "from sklearn.neighbors import KNeighborsClassifier\n",
        "from sklearn.metrics import silhouette_score\n",
        "from sklearn.decomposition import PCA\n",
        "from sklearn.preprocessing import LabelEncoder\n",
        "from sklearn.cluster import KMeans\n",
        "%matplotlib inline\n",
        "import warnings\n",
        "warnings.filterwarnings('ignore')\n",
        "from sklearn.preprocessing import MinMaxScaler\n"
      ],
      "metadata": {
        "_uuid": "8f2839f25d086af736a60e9eeb907d3b93b6e0e5",
        "_cell_guid": "b1076dfc-b9ad-4769-8c92-a6c4dae69d19",
        "trusted": true,
        "execution": {
          "iopub.status.busy": "2024-10-18T04:01:38.81571Z",
          "iopub.execute_input": "2024-10-18T04:01:38.816783Z",
          "iopub.status.idle": "2024-10-18T04:01:42.112972Z",
          "shell.execute_reply.started": "2024-10-18T04:01:38.816722Z",
          "shell.execute_reply": "2024-10-18T04:01:42.111853Z"
        },
        "id": "dm9A48wu7_XV"
      },
      "outputs": [],
      "execution_count": null
    },
    {
      "cell_type": "code",
      "source": [
        "# Load the dataset\n",
        "df = pd.read_csv('/kaggle/input/knn-clustering-on-iris-dataset/IRIS (2).csv')"
      ],
      "metadata": {
        "trusted": true,
        "execution": {
          "iopub.status.busy": "2024-10-18T04:04:18.256085Z",
          "iopub.execute_input": "2024-10-18T04:04:18.256894Z",
          "iopub.status.idle": "2024-10-18T04:04:18.279103Z",
          "shell.execute_reply.started": "2024-10-18T04:04:18.256736Z",
          "shell.execute_reply": "2024-10-18T04:04:18.277956Z"
        },
        "id": "3YbZWkgR7_XW"
      },
      "outputs": [],
      "execution_count": null
    },
    {
      "cell_type": "code",
      "source": [
        "# Display the first few rows of the dataset to understand its structure\n",
        "df.head()"
      ],
      "metadata": {
        "trusted": true,
        "execution": {
          "iopub.status.busy": "2024-10-18T04:04:41.458142Z",
          "iopub.execute_input": "2024-10-18T04:04:41.458625Z",
          "iopub.status.idle": "2024-10-18T04:04:41.485638Z",
          "shell.execute_reply.started": "2024-10-18T04:04:41.458579Z",
          "shell.execute_reply": "2024-10-18T04:04:41.484528Z"
        },
        "id": "i6oLW7aj7_XX"
      },
      "outputs": [],
      "execution_count": null
    },
    {
      "cell_type": "code",
      "source": [
        "df.info()"
      ],
      "metadata": {
        "trusted": true,
        "execution": {
          "iopub.status.busy": "2024-10-18T04:04:54.577105Z",
          "iopub.execute_input": "2024-10-18T04:04:54.577528Z",
          "iopub.status.idle": "2024-10-18T04:04:54.606189Z",
          "shell.execute_reply.started": "2024-10-18T04:04:54.577475Z",
          "shell.execute_reply": "2024-10-18T04:04:54.60489Z"
        },
        "id": "OtU9mDs67_XY"
      },
      "outputs": [],
      "execution_count": null
    },
    {
      "cell_type": "code",
      "source": [
        "df.describe()"
      ],
      "metadata": {
        "trusted": true,
        "execution": {
          "iopub.status.busy": "2024-10-18T04:05:05.990615Z",
          "iopub.execute_input": "2024-10-18T04:05:05.991148Z",
          "iopub.status.idle": "2024-10-18T04:05:06.021389Z",
          "shell.execute_reply.started": "2024-10-18T04:05:05.991104Z",
          "shell.execute_reply": "2024-10-18T04:05:06.020193Z"
        },
        "id": "M08TQDre7_XZ"
      },
      "outputs": [],
      "execution_count": null
    },
    {
      "cell_type": "code",
      "source": [
        "df.isnull().sum()"
      ],
      "metadata": {
        "trusted": true,
        "execution": {
          "iopub.status.busy": "2024-10-18T04:05:18.17814Z",
          "iopub.execute_input": "2024-10-18T04:05:18.178613Z",
          "iopub.status.idle": "2024-10-18T04:05:18.188654Z",
          "shell.execute_reply.started": "2024-10-18T04:05:18.178566Z",
          "shell.execute_reply": "2024-10-18T04:05:18.187335Z"
        },
        "id": "QWhik1SK7_Xa"
      },
      "outputs": [],
      "execution_count": null
    },
    {
      "cell_type": "markdown",
      "source": [
        "# Distribution of Features  "
      ],
      "metadata": {
        "id": "0w27razT7_Xa"
      }
    },
    {
      "cell_type": "code",
      "source": [
        "# Histograms for each feature\n",
        "df.hist(bins=20, figsize=(10, 8), edgecolor='black')\n",
        "plt.suptitle(\"Distribution of Features\", size=16)\n",
        "plt.show()"
      ],
      "metadata": {
        "trusted": true,
        "execution": {
          "iopub.status.busy": "2024-10-18T04:05:56.013768Z",
          "iopub.execute_input": "2024-10-18T04:05:56.014311Z",
          "iopub.status.idle": "2024-10-18T04:05:57.101212Z",
          "shell.execute_reply.started": "2024-10-18T04:05:56.014266Z",
          "shell.execute_reply": "2024-10-18T04:05:57.100059Z"
        },
        "id": "IR-GYepQ7_Xb"
      },
      "outputs": [],
      "execution_count": null
    },
    {
      "cell_type": "code",
      "source": [
        "# Pair plot for all features, colored by species\n",
        "sns.pairplot(df, hue='species', markers=[\"o\", \"s\", \"D\"], palette=\"Set2\")\n",
        "plt.suptitle(\"Pairwise Scatter Plot\", size=16)\n",
        "plt.show()"
      ],
      "metadata": {
        "trusted": true,
        "execution": {
          "iopub.status.busy": "2024-10-18T04:06:10.018825Z",
          "iopub.execute_input": "2024-10-18T04:06:10.019275Z",
          "iopub.status.idle": "2024-10-18T04:06:16.516358Z",
          "shell.execute_reply.started": "2024-10-18T04:06:10.019233Z",
          "shell.execute_reply": "2024-10-18T04:06:16.515172Z"
        },
        "id": "_qTZEmyt7_Xc"
      },
      "outputs": [],
      "execution_count": null
    },
    {
      "cell_type": "code",
      "source": [
        "df_melted = df.melt(id_vars='species', value_vars=['sepal_length', 'petal_length', 'petal_width'],\n",
        "                           var_name='Feature', value_name='Measurement')\n",
        "plt.figure(figsize=(10, 6))\n",
        "sns.barplot(x='species', y='Measurement', hue='Feature', data=df_melted, palette='Set2')\n",
        "plt.title('Comparison of Sepal Length, Petal Length, and Petal Width Across Species')\n",
        "plt.xlabel('Species')\n",
        "plt.ylabel('Measurement (cm)')\n",
        "plt.legend(title='Features')\n",
        "plt.show()\n"
      ],
      "metadata": {
        "trusted": true,
        "execution": {
          "iopub.status.busy": "2024-10-18T04:07:00.187259Z",
          "iopub.execute_input": "2024-10-18T04:07:00.187737Z",
          "iopub.status.idle": "2024-10-18T04:07:00.832011Z",
          "shell.execute_reply.started": "2024-10-18T04:07:00.187692Z",
          "shell.execute_reply": "2024-10-18T04:07:00.830813Z"
        },
        "id": "VwAz18MJ7_Xd"
      },
      "outputs": [],
      "execution_count": null
    },
    {
      "cell_type": "markdown",
      "source": [
        "# Correlation between Features"
      ],
      "metadata": {
        "id": "lheuWPBY7_Xd"
      }
    },
    {
      "cell_type": "code",
      "source": [
        "scaler = LabelEncoder()\n",
        "\n",
        "df['species'] = scaler.fit_transform(df['species'])"
      ],
      "metadata": {
        "trusted": true,
        "execution": {
          "iopub.status.busy": "2024-10-18T04:07:40.412692Z",
          "iopub.execute_input": "2024-10-18T04:07:40.413166Z",
          "iopub.status.idle": "2024-10-18T04:07:40.419653Z",
          "shell.execute_reply.started": "2024-10-18T04:07:40.413123Z",
          "shell.execute_reply": "2024-10-18T04:07:40.418172Z"
        },
        "id": "xcV435hx7_Xd"
      },
      "outputs": [],
      "execution_count": null
    },
    {
      "cell_type": "code",
      "source": [
        "df.corr"
      ],
      "metadata": {
        "trusted": true,
        "execution": {
          "iopub.status.busy": "2024-10-18T04:08:00.712921Z",
          "iopub.execute_input": "2024-10-18T04:08:00.713378Z",
          "iopub.status.idle": "2024-10-18T04:08:00.727563Z",
          "shell.execute_reply.started": "2024-10-18T04:08:00.713336Z",
          "shell.execute_reply": "2024-10-18T04:08:00.726307Z"
        },
        "id": "Pf_Yp3Es7_Xd"
      },
      "outputs": [],
      "execution_count": null
    },
    {
      "cell_type": "code",
      "source": [
        "# Generate a correlation matrix\n",
        "plt.figure(figsize=(8, 6))\n",
        "sns.heatmap(df.corr(), annot=True, cmap='coolwarm', linewidths=0.5)\n",
        "plt.title(\"Correlation Matrix\")\n",
        "plt.show()"
      ],
      "metadata": {
        "trusted": true,
        "execution": {
          "iopub.status.busy": "2024-10-18T04:08:18.893509Z",
          "iopub.execute_input": "2024-10-18T04:08:18.893997Z",
          "iopub.status.idle": "2024-10-18T04:08:19.314937Z",
          "shell.execute_reply.started": "2024-10-18T04:08:18.893951Z",
          "shell.execute_reply": "2024-10-18T04:08:19.313846Z"
        },
        "id": "x4QJUXaB7_Xe"
      },
      "outputs": [],
      "execution_count": null
    },
    {
      "cell_type": "code",
      "source": [
        "# Define feature columns (all columns except 'species')\n",
        "X = df.drop('species', axis=1)\n",
        "# Target labels (species column)\n",
        "y = df['species']\n",
        "# Initialize the StandardScaler\n",
        "scaler = StandardScaler()\n",
        "# Fit and transform the features\n",
        "X_scaled = scaler.fit_transform(X)"
      ],
      "metadata": {
        "trusted": true,
        "execution": {
          "iopub.status.busy": "2024-10-18T04:18:41.376728Z",
          "iopub.execute_input": "2024-10-18T04:18:41.377234Z",
          "iopub.status.idle": "2024-10-18T04:18:41.388197Z",
          "shell.execute_reply.started": "2024-10-18T04:18:41.377187Z",
          "shell.execute_reply": "2024-10-18T04:18:41.387031Z"
        },
        "id": "cAPNTks07_Xe"
      },
      "outputs": [],
      "execution_count": null
    },
    {
      "cell_type": "code",
      "source": [
        "# Split data into 80% training and 20% testing\n",
        "X_train, X_test, y_train, y_test = train_test_split(X_scaled, y, test_size=0.2, random_state=42)\n",
        "# Check the shapes of the split datasets\n",
        "print(\"X_train shape:\", X_train.shape)\n",
        "print(\"X_test shape:\", X_test.shape)\n",
        "print(\"y_train shape:\", y_train.shape)\n",
        "print(\"y_test shape:\", y_test.shape)"
      ],
      "metadata": {
        "trusted": true,
        "execution": {
          "iopub.status.busy": "2024-10-18T04:19:58.602599Z",
          "iopub.execute_input": "2024-10-18T04:19:58.60363Z",
          "iopub.status.idle": "2024-10-18T04:19:58.613681Z",
          "shell.execute_reply.started": "2024-10-18T04:19:58.60358Z",
          "shell.execute_reply": "2024-10-18T04:19:58.612586Z"
        },
        "id": "5detO_qE7_Xe"
      },
      "outputs": [],
      "execution_count": null
    },
    {
      "cell_type": "markdown",
      "source": [
        "# Apply K-Nearest Neighbors (KNN) clustering algorithm"
      ],
      "metadata": {
        "id": "25_G7KI27_Xf"
      }
    },
    {
      "cell_type": "code",
      "source": [
        "from sklearn.neighbors import KNeighborsClassifier\n",
        "from sklearn.metrics import accuracy_score, confusion_matrix, classification_report\n",
        "# 1. Initialize KNN Classifier\n",
        "knn = KNeighborsClassifier(n_neighbors=3)\n",
        "# 2. Train the KNN model\n",
        "knn.fit(X_train, y_train)\n",
        "# 3. Make predictions on the test data\n",
        "y_pred = knn.predict(X_test)"
      ],
      "metadata": {
        "trusted": true,
        "execution": {
          "iopub.status.busy": "2024-10-18T04:20:41.846949Z",
          "iopub.execute_input": "2024-10-18T04:20:41.848047Z",
          "iopub.status.idle": "2024-10-18T04:20:41.8623Z",
          "shell.execute_reply.started": "2024-10-18T04:20:41.847998Z",
          "shell.execute_reply": "2024-10-18T04:20:41.860971Z"
        },
        "id": "Am9nRGQS7_Xf"
      },
      "outputs": [],
      "execution_count": null
    },
    {
      "cell_type": "code",
      "source": [
        "# Calculate accuracy\n",
        "accuracy = accuracy_score(y_test, y_pred)\n",
        "print(\"Accuracy:\", accuracy)\n",
        "# Confusion Matrix\n",
        "conf_matrix = confusion_matrix(y_test, y_pred)\n",
        "print(\"\\nConfusion Matrix:\\n\", conf_matrix)\n",
        "# Classification Report (includes precision, recall, f1-score)\n",
        "class_report = classification_report(y_test, y_pred, target_names=iris.target_names)\n",
        "print(\"\\nClassification Report:\\n\", class_report)"
      ],
      "metadata": {
        "trusted": true,
        "id": "FGUXq2dg7_Xf"
      },
      "outputs": [],
      "execution_count": null
    },
    {
      "cell_type": "markdown",
      "source": [
        "# Evaluate performance using silhouette scores and visualize the clusters"
      ],
      "metadata": {
        "id": "qkbIzT587_Xf"
      }
    },
    {
      "cell_type": "code",
      "source": [
        "from sklearn.cluster import KMeans\n",
        "from sklearn.metrics import silhouette_score\n",
        "# 1. Apply K-Means Clustering\n",
        "# We'll use 3 clusters since the Iris dataset has 3 species\n",
        "kmeans = KMeans(n_clusters=3, random_state=42)\n",
        "kmeans.fit(X_scaled)\n",
        "# Cluster assignments\n",
        "clusters = kmeans.labels_\n",
        "# 2. Compute Silhouette Score\n",
        "silhouette_avg = silhouette_score(X_scaled, clusters)\n",
        "print(\"Silhouette Score for K-Means Clustering:\", silhouette_avg)"
      ],
      "metadata": {
        "trusted": true,
        "execution": {
          "iopub.status.busy": "2024-10-18T04:21:54.807692Z",
          "iopub.execute_input": "2024-10-18T04:21:54.809055Z",
          "iopub.status.idle": "2024-10-18T04:21:54.886515Z",
          "shell.execute_reply.started": "2024-10-18T04:21:54.809002Z",
          "shell.execute_reply": "2024-10-18T04:21:54.885627Z"
        },
        "id": "2VSXjugM7_Xf"
      },
      "outputs": [],
      "execution_count": null
    },
    {
      "cell_type": "code",
      "source": [
        "from sklearn.decomposition import PCA\n",
        "# Reduce the feature space to 2D for visualization\n",
        "pca = PCA(n_components=2)\n",
        "X_pca = pca.fit_transform(X_scaled)\n",
        "# Plotting the clusters\n",
        "plt.figure(figsize=(10, 6))\n",
        "sns.scatterplot(x=X_pca[:, 0], y=X_pca[:, 1], hue=clusters, palette='Set1', s=100, alpha=0.7)\n",
        "plt.title(\"K-Means Clustering of Iris Dataset (PCA 2D Projection)\")\n",
        "plt.xlabel(\"Principal Component 1\")\n",
        "plt.ylabel(\"Principal Component 2\")\n",
        "plt.legend(title=\"Cluster\")\n",
        "plt.show()"
      ],
      "metadata": {
        "trusted": true,
        "execution": {
          "iopub.status.busy": "2024-10-18T04:22:09.592789Z",
          "iopub.execute_input": "2024-10-18T04:22:09.593631Z",
          "iopub.status.idle": "2024-10-18T04:22:10.020611Z",
          "shell.execute_reply.started": "2024-10-18T04:22:09.593582Z",
          "shell.execute_reply": "2024-10-18T04:22:10.019182Z"
        },
        "id": "7wQIaVxj7_Xg"
      },
      "outputs": [],
      "execution_count": null
    },
    {
      "cell_type": "code",
      "source": [],
      "metadata": {
        "trusted": true,
        "id": "K1QHUEtl7_Xg"
      },
      "outputs": [],
      "execution_count": null
    }
  ]
}